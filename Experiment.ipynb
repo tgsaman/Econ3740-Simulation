{
 "cells": [
  {
   "cell_type": "code",
   "execution_count": 3,
   "metadata": {},
   "outputs": [
    {
     "name": "stdout",
     "output_type": "stream",
     "text": [
      "0:02:08\n"
     ]
    }
   ],
   "source": [
    "# Time Series Definition\n",
    "\n",
    "import datetime as dt\n",
    "\n",
    "fiscal_quarter = dt.timedelta(seconds= 4)\n",
    "year = 4*fiscal_quarter\n",
    "game_time = 8*year\n",
    "\n",
    "print(game_time)"
   ]
  },
  {
   "cell_type": "code",
   "execution_count": 396,
   "metadata": {},
   "outputs": [
    {
     "name": "stdout",
     "output_type": "stream",
     "text": [
      "10 20 1418 33938319\n",
      "Player 1 Wealth = $10\n",
      "Player 2 Wealth = $9\n",
      "Player 3 Wealth = $8\n",
      "Player 4 Wealth = $7\n",
      "Player 5 Wealth = $6\n",
      "Player 6 Wealth = $5\n",
      "Player 7 Wealth = $4\n",
      "Player 8 Wealth = $3\n",
      "Player 9 Wealth = $2\n",
      "Player 10 Wealth = $1\n"
     ]
    }
   ],
   "source": [
    "# Establish Simulated Player Count\n",
    "import random as r\n",
    "\n",
    "playercount_small = r.randint(3, 10)\n",
    "\n",
    "playercount_medium = r.randint(10, 100)\n",
    "\n",
    "playercount_large = r.randint(1000, 10000)\n",
    "\n",
    "playercount_verylarge = r.randint(10000000, 100000000)\n",
    "\n",
    "print(playercount_small,\n",
    "      playercount_medium,\n",
    "      playercount_large,\n",
    "      playercount_verylarge)\n",
    "\n",
    "\n",
    "# Wealth Distribution (Setup)\n",
    "#Probably need to initialize the variables as attributes to a class...\n",
    "for x in range (0, playercount_small):\n",
    "    player = \"Player %s\" % str(x+1)\n",
    "    wealth_value = \"Wealth = $%s\" % str(playercount_small-x)\n",
    "    print (player, wealth_value)\n",
    "\n"
   ]
  },
  {
   "cell_type": "code",
   "execution_count": 377,
   "metadata": {},
   "outputs": [
    {
     "name": "stdout",
     "output_type": "stream",
     "text": [
      "5\n"
     ]
    }
   ],
   "source": [
    "supply = playercount_small\n",
    "\n",
    "print(supply)\n",
    "\n",
    "opening_price = "
   ]
  }
 ],
 "metadata": {
  "kernelspec": {
   "display_name": "Python 3",
   "language": "python",
   "name": "python3"
  },
  "language_info": {
   "codemirror_mode": {
    "name": "ipython",
    "version": 3
   },
   "file_extension": ".py",
   "mimetype": "text/x-python",
   "name": "python",
   "nbconvert_exporter": "python",
   "pygments_lexer": "ipython3",
   "version": "3.9.6"
  }
 },
 "nbformat": 4,
 "nbformat_minor": 2
}
